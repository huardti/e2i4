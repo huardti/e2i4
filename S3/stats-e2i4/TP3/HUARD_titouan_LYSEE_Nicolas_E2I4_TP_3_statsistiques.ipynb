{
 "cells": [
  {
   "cell_type": "markdown",
   "metadata": {},
   "source": [
    "## TP3 Statistiques inférentielles : estimation\n",
    "\n",
    "- HUARD Titouan\n",
    "- LYSEE Nicolas"
   ]
  },
  {
   "cell_type": "markdown",
   "metadata": {},
   "source": [
    "On commence par importer les modules python nécessaires pour la suite de TP."
   ]
  },
  {
   "cell_type": "code",
   "execution_count": 1,
   "metadata": {},
   "outputs": [],
   "source": [
    "import numpy as np\n",
    "import matplotlib.pyplot as plt\n",
    "from scipy.stats import norm\n",
    "from math import sqrt\n",
    "from scipy.stats import binom"
   ]
  },
  {
   "cell_type": "markdown",
   "metadata": {},
   "source": [
    "# Exo 1: Simulation Loi de Bernouilli"
   ]
  },
  {
   "cell_type": "code",
   "execution_count": 2,
   "metadata": {},
   "outputs": [
    {
     "name": "stderr",
     "output_type": "stream",
     "text": [
      "No handles with labels found to put in legend.\n"
     ]
    },
    {
     "name": "stdout",
     "output_type": "stream",
     "text": [
      "La valeur de p estimé est pour 100 tirages independants pestim=  0.45\n",
      "\n",
      "\n",
      "La valeur réelle de p est p=  0.42943441102391167\n"
     ]
    },
    {
     "data": {
      "image/png": "[encoded data removed]",
      "text/plain": [
       "<Figure size 432x288 with 1 Axes>"
      ]
     },
     "metadata": {},
     "output_type": "display_data"
    }
   ],
   "source": [
    "##n personnes au hasard Xi=1 si A Xi=0 si B\n",
    "##Xi suit une loi de bernouilli de paramaetre p inconnu.\n",
    "p=np.random.uniform(0,1)\n",
    "n=100 ##taille echantillon >30 docn X barre suit une loi normale\n",
    "\n",
    "Echantillon=np.random.binomial(1,p,n) #1 car on fais des tirages independants\n",
    "pestim=np.mean(Echantillon)\n",
    "print(\"La valeur de p estimé est pour 100 tirages independants pestim= \",pestim)\n",
    "print(\"\\n\")\n",
    "print(\"La valeur réelle de p est p= \",p)\n",
    "\n",
    "##On repete le meme process pour 1000 echantillons de n=100 tirages\n",
    "F=[]\n",
    "for i in range (0,1000):\n",
    "    F.append(np.mean(np.random.binomial(1,p,n)))\n",
    "papprox=np.mean(F)\n",
    "\n",
    "\n",
    "plt.figure()\n",
    "plt.hist(F,bins=30,density=1,color='r')\n",
    "plt.title(\"Distribution pour 1000 tirages d'échantillon de populations 100 elements\")\n",
    "plt.xlabel(\"Valeurs\")\n",
    "plt.ylabel(\"Nombres de valeurs\")\n",
    "plt.legend()\n",
    "plt.show()"
   ]
  },
  {
   "cell_type": "markdown",
   "metadata": {},
   "source": [
    "\n",
    "\n",
    "Une distribution qui forme une gaussienne autour de la valeur reelle de p.\n",
    "On observe bien la loi normale avec la distribution qui se place autour de la valeur de p"
   ]
  },
  {
   "cell_type": "markdown",
   "metadata": {},
   "source": [
    "# Exo 2: intervalle de confiance"
   ]
  },
  {
   "cell_type": "code",
   "execution_count": 3,
   "metadata": {},
   "outputs": [],
   "source": [
    "def Intervalle_confiance_moyenne(ech,seuil):\n",
    "    ##seuil en %\n",
    "\n",
    "        #taille n de l'echantillon\n",
    "    n=len(ech)\n",
    "    #print(\"La taille de l'echantillon est de \",n)\n",
    "\n",
    "        #calcul de la moyenne\n",
    "    mu=np.mean(ech)\n",
    "    #print(\"La moyenne de l'echantillon est de \",mu)\n",
    "\n",
    "        #calcul ecart type sur ech\n",
    "    ecart_type=np.std(ech)\n",
    "    #print(\"L'ecart type est de \",ecart_type)\n",
    "\n",
    "        #calcul de zalpha2\n",
    "    val=seuil/100+(1-seuil/100)/2\n",
    "    zalpha2=norm.ppf(val,0,1)\n",
    "    #print(zalpha2)\n",
    "\n",
    "        #calcul des bornes de l'intervales\n",
    "    marge=2*zalpha2*ecart_type/(sqrt(n))\n",
    "\n",
    "    return (mu-marge,mu+marge)\n",
    "\n",
    "##test\n",
    "##ech=np.random.binomial(100,0.5,50)\n",
    "##print(\"intervalle de confiance moyenne population\",Intervalle_confiance_moyenne(ech, 95))\n",
    "\n",
    "def Intervalle_confiance_proportion(ech,seuil):\n",
    "    ##seuil en %\n",
    "\n",
    "        #taille n de l'echantillon\n",
    "    n=len(ech)\n",
    "    #print(\"La taille de l'echantillon est de \",n)\n",
    "\n",
    "        #calcul de la moyenne\n",
    "    mu=np.mean(ech)\n",
    "    #print(\"La moyenne de l'echantillon est de \",mu)\n",
    "\n",
    "        #calcul ecart type sur ech\n",
    "    ecart_type=np.std(ech)\n",
    "    #print(\"L'ecart type est de \",ecart_type)\n",
    "\n",
    "        #calcul de zalpha2\n",
    "    val=seuil/100+(1-seuil/100)/2\n",
    "    zalpha2=norm.ppf(val,0,1)\n",
    "    #print(zalpha2)\n",
    "\n",
    "        #calcul des bornes de l'intervales\n",
    "    marge=zalpha2*(sqrt((mu*(1-mu))/n))\n",
    "\n",
    "\n",
    "    return (mu-marge,mu+marge)\n",
    "\n",
    "##test\n",
    "##ech2=np.random.binomial(1,0.5,500)\n",
    "##print(\"intervalle de confiance moyenne de la proportion \",Intervalle_confiance_proportion(ech2, 95))"
   ]
  },
  {
   "cell_type": "markdown",
   "metadata": {},
   "source": [
    "# Exo 3"
   ]
  },
  {
   "cell_type": "code",
   "execution_count": 4,
   "metadata": {},
   "outputs": [
    {
     "name": "stdout",
     "output_type": "stream",
     "text": [
      "Sur 100 tirages, il y'a  100  de fois ou mu est dans l'intervalle\n"
     ]
    }
   ],
   "source": [
    "##Exo3\n",
    "##taille de l'echantillon n\n",
    "n=100\n",
    "mu=50\n",
    "sigma=5\n",
    "nb_mu_in_int=0;\n",
    "for i in range(0,100):\n",
    "    ech3=(np.random.normal(mu,sigma,n))\n",
    "    tempint=Intervalle_confiance_moyenne(ech3, 95)\n",
    "    if(tempint[0]<=mu<=tempint[1]):\n",
    "        nb_mu_in_int+=1\n",
    "\n",
    "print(\"Sur 100 tirages, il y'a \",nb_mu_in_int,\" de fois ou mu est dans l'intervalle\")\n",
    "\n"
   ]
  }
 ],
 "metadata": {
  "interpreter": {
   "hash": "31f2aee4e71d21fbe5cf8b01ff0e069b9275f58929596ceb00d14d90e3e16cd6"
  },
  "kernelspec": {
   "display_name": "Python 3.6.9 64-bit",
   "language": "python",
   "name": "python3"
  },
  "language_info": {
   "codemirror_mode": {
    "name": "ipython",
    "version": 3
   },
   "file_extension": ".py",
   "mimetype": "text/x-python",
   "name": "python",
   "nbconvert_exporter": "python",
   "pygments_lexer": "ipython3",
   "version": "3.6.9"
  },
  "orig_nbformat": 4
 },
 "nbformat": 4,
 "nbformat_minor": 2
}
