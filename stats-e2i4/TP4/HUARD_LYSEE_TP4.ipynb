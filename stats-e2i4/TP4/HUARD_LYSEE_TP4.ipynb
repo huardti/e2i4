{
 "cells": [
  {
   "cell_type": "markdown",
   "metadata": {},
   "source": [
    "# TP4 \n",
    " - HUARD Titouan\n",
    " - LYSEE Nicolas"
   ]
  },
  {
   "cell_type": "markdown",
   "metadata": {},
   "source": [
    "on importe les librairies utiles pour la suite."
   ]
  },
  {
   "cell_type": "code",
   "execution_count": 1,
   "metadata": {},
   "outputs": [],
   "source": [
    "import numpy as np\n",
    "import pandas as pd\n",
    "import matplotlib.pyplot as plt\n",
    "from scipy.stats import norm\n",
    "from math import sqrt\n",
    "\n",
    "from scipy.stats.stats import ttest_1samp , ttest_ind"
   ]
  },
  {
   "cell_type": "markdown",
   "metadata": {},
   "source": [
    "# Exercice 1\n",
    "\n",
    "L'objectif de cette exercice est de savoir si\n",
    "l'echantillon de mesure relevé par l'entreprise\n",
    "est bien accord avec le processus normal de\n",
    "fabrication. Pour rapelle, il faut que les pieces\n",
    "soient de 20 cm de diametre avec une variation\n",
    "de 1mm (population)."
   ]
  },
  {
   "cell_type": "markdown",
   "metadata": {},
   "source": [
    "On commence par ouvrir le tableau representant l'echantillon.\n",
    "On effectuera à ce moment la un traitement pour enlever les valeurs \"nan\"."
   ]
  },
  {
   "cell_type": "code",
   "execution_count": 2,
   "metadata": {},
   "outputs": [
    {
     "name": "stdout",
     "output_type": "stream",
     "text": [
      "Reading sheet 0\n"
     ]
    }
   ],
   "source": [
    "ech = pd.read_excel(\"Exercice1.xlsx\",header=0, engine=\"openpyxl\", verbose=True, na_values=[\"na\"])\n",
    "ech.dropna(inplace=True)"
   ]
  },
  {
   "cell_type": "markdown",
   "metadata": {},
   "source": [
    "## Description de l'echantillon"
   ]
  },
  {
   "cell_type": "code",
   "execution_count": 3,
   "metadata": {},
   "outputs": [
    {
     "name": "stdout",
     "output_type": "stream",
     "text": [
      "taille de l'echantillon est :  479\n",
      "la moyenne xbarre de l'echantillon est :  199.46586430062632\n",
      "la variance s^2 de l'echantillon est :  0.964383983673362\n",
      "L'ecart type dans cet echantillon est de :  0.9820305411102864\n"
     ]
    }
   ],
   "source": [
    "print(\"taille de l'echantillon est : \", len(ech.values))\n",
    "print(\"la moyenne xbarre de l'echantillon est : \", np.mean(ech.values))\n",
    "print(\"la variance s^2 de l'echantillon est : \", np.var(ech.values))\n",
    "print(\"L'ecart type dans cet echantillon est de : \",np.std(ech.values))"
   ]
  },
  {
   "cell_type": "markdown",
   "metadata": {},
   "source": [
    "Nous avont aussi une visualisation de la repartition des mesures avec le boxplot suivant."
   ]
  },
  {
   "cell_type": "code",
   "execution_count": 4,
   "metadata": {},
   "outputs": [
    {
     "data": {
      "image/png": "[encoded data removed]",
      "text/plain": [
       "<Figure size 432x288 with 1 Axes>"
      ]
     },
     "metadata": {},
     "output_type": "display_data"
    }
   ],
   "source": [
    "plt.figure()\n",
    "plt.boxplot(ech.values)\n",
    "plt.xlabel(\"diamètre mesuré\")\n",
    "plt.title(\"boxplot de notre echantillon\")\n",
    "plt.show()"
   ]
  },
  {
   "cell_type": "code",
   "execution_count": 5,
   "metadata": {},
   "outputs": [
    {
     "name": "stderr",
     "output_type": "stream",
     "text": [
      "No handles with labels found to put in legend.\n"
     ]
    },
    {
     "data": {
      "image/png": "[encoded data removed]",
      "text/plain": [
       "<Figure size 432x288 with 1 Axes>"
      ]
     },
     "metadata": {},
     "output_type": "display_data"
    }
   ],
   "source": [
    "x=np.linspace(195,205,479)\n",
    "plt.figure()\n",
    "plt.hist(ech,bins=30,density=1)\n",
    "plt.plot(x,norm.pdf(x,np.mean(ech.values),np.std(ech.values)))\n",
    "plt.title(\"Distribution des diamètres comparé à une distribution normale\")\n",
    "plt.xlabel(\"Diamètres mesurés\")\n",
    "plt.ylabel(\"Nombres de mesures\")\n",
    "plt.legend()\n",
    "plt.show()"
   ]
  },
  {
   "cell_type": "markdown",
   "metadata": {},
   "source": [
    "Nous observons que la distribution semble suivre une loi normale.\n",
    "\n",
    "Au vue de cette distrubution, on peut alors calculer un intervalle de confiance à 95%"
   ]
  },
  {
   "cell_type": "markdown",
   "metadata": {},
   "source": [
    "## intervalle de confiance moyenne"
   ]
  },
  {
   "cell_type": "code",
   "execution_count": 6,
   "metadata": {},
   "outputs": [
    {
     "name": "stdout",
     "output_type": "stream",
     "text": [
      "intervalle de confiance moyenne population (199.37631126038724, 199.5554173408654)\n"
     ]
    }
   ],
   "source": [
    "def Intervalle_confiance_moyenne(ech,seuil,ecart_type):\n",
    "    ##seuil en %\n",
    "        #taille n de l'echantillon\n",
    "    n=len(ech)\n",
    "        #calcul de la moyenne\n",
    "    xbarre=np.mean(ech)\n",
    "        #calcul de zalpha2\n",
    "    val=seuil/100+(1-seuil/100)/2\n",
    "    zalpha2=norm.ppf(val)\n",
    "        #calcul des bornes de l'intervales\n",
    "    marge=2*zalpha2*ecart_type*ecart_type/(sqrt(n))\n",
    "\n",
    "    return (xbarre-marge/2,xbarre+marge/2)\n",
    "\n",
    "print(\"intervalle de confiance moyenne population\",Intervalle_confiance_moyenne(ech.values, 95,1))"
   ]
  },
  {
   "cell_type": "markdown",
   "metadata": {},
   "source": [
    "Avec un risque de 5%, on peut affirmer que le diametre des pièces sera dans l'intervalle de confiance ci dessus."
   ]
  },
  {
   "cell_type": "markdown",
   "metadata": {},
   "source": [
    "## Test d'hypothese"
   ]
  },
  {
   "cell_type": "markdown",
   "metadata": {},
   "source": [
    "On va faire les tests d'hypothese pour comparer une moyenne à la norme et ainsi savoir si l'echantillon respecte les standands.\n",
    "\n",
    "On vas donc poser 2 hypothèses :\n",
    "\n",
    "- (H0) soit mu=200\n",
    "- (H1) soit mu != 200 (hyphotese bilaterale)\n",
    "\n",
    "On va aussi fixer le risque alpha = P(H0rejetée/H0vraie) = 5%\n",
    "Soit H0 vraie, zthéorique=1,96 (en centrant et reduisant la loi suivant par Xbarre)\n",
    "\n",
    "H0 rejeté si Xbarre* < -1,96 ou > 1,96\n",
    "Ensuite on va comparer cette valeur théorique à la valeur de zobservé dans notre echantillon de mesures."
   ]
  },
  {
   "cell_type": "code",
   "execution_count": 7,
   "metadata": {},
   "outputs": [
    {
     "name": "stdout",
     "output_type": "stream",
     "text": [
      "Ttest_1sampResult(statistic=array([-11.8916073]), pvalue=array([9.55347214e-29]))\n"
     ]
    }
   ],
   "source": [
    "from scipy.stats import ttest_ind\n",
    "\n",
    "print(ttest_1samp(ech.values, 200))"
   ]
  },
  {
   "cell_type": "markdown",
   "metadata": {},
   "source": [
    "On voit que zobs = -11,89 ce qui fait que H0 est rejeter donc on peut affirmer avec un risque d'erreur\n",
    "à 5% que l'echantillon ne rentre pas dans les standards de fabrication de l'entreprise."
   ]
  },
  {
   "cell_type": "markdown",
   "metadata": {},
   "source": [
    "# Exercice 2\n",
    "\n",
    "L'entreprise affirme que moins de 1% des badges fabriqués ne fonctionnent pas. L'objectif de l'exercice est de savoir si cette affirmation est bien respectée."
   ]
  },
  {
   "cell_type": "markdown",
   "metadata": {},
   "source": [
    "## Description de l'echantillon"
   ]
  },
  {
   "cell_type": "code",
   "execution_count": 8,
   "metadata": {},
   "outputs": [
    {
     "name": "stdout",
     "output_type": "stream",
     "text": [
      "Reading sheet 0\n",
      "taille de l'echantillon 100\n",
      "la moyenne xbarre de l'echantillon est :  0.11\n",
      "la variance s^2 de l'echantillon est :  0.09790000000000001\n",
      "L'ecart type dans cet echantillon est de :  0.31288975694324034\n"
     ]
    }
   ],
   "source": [
    "ech = pd.read_excel(\"Exercice2.xlsx\",header=0, engine=\"openpyxl\", index_col=0, verbose=True)\n",
    "\n",
    "print(\"taille de l'echantillon\", len(ech.values))\n",
    "print(\"la moyenne xbarre de l'echantillon est : \", np.mean(ech.values))\n",
    "print(\"la variance s^2 de l'echantillon est : \", np.var(ech.values))\n",
    "print(\"L'ecart type dans cet echantillon est de : \",np.std(ech.values))"
   ]
  },
  {
   "cell_type": "code",
   "execution_count": 9,
   "metadata": {},
   "outputs": [
    {
     "data": {
      "image/png": "[encoded data removed]",
      "text/plain": [
       "<Figure size 432x288 with 1 Axes>"
      ]
     },
     "metadata": {},
     "output_type": "display_data"
    },
    {
     "data": {
      "image/png": "[encoded data removed]",
      "text/plain": [
       "<Figure size 432x288 with 1 Axes>"
      ]
     },
     "metadata": {},
     "output_type": "display_data"
    }
   ],
   "source": [
    "(Valeurs,FreqAbsolues)=np.unique(ech, return_counts=True)\n",
    "FreqRelatives=FreqAbsolues/len(ech)\n",
    "plt.figure()\n",
    "plt.bar(['Conforme', 'Défectueux'], FreqRelatives, )\n",
    "plt.xlabel('Valeurs')\n",
    "plt.ylabel('Effectifs relatif')\n",
    "plt.show()\n",
    "\n",
    "plt.figure()\n",
    "plt.pie(FreqRelatives, labels=['Conforme', 'Défectueux'])\n",
    "plt.show()"
   ]
  },
  {
   "cell_type": "markdown",
   "metadata": {},
   "source": [
    "## test d'hypothese\n",
    "\n",
    "Ici, on va comparer la proportion mesurée sur l'echantillon par rapport à une norme.\n",
    "\n",
    "On vas donc poser 2 hypothèses :\n",
    "\n",
    "- (H0) soit p = 0,01\n",
    "- (H1) soit p > 0,01 (hypothese unilaterale droite)\n",
    "\n",
    "\n",
    "On fixe le risque alpha = 5%, on suppose H0 vraie et ici, np > 5 et n(1-p) > 5.\n",
    "\n",
    "On peut donc faire le test d'hypothese grâce à une loi normale.\n",
    "\n",
    "zalpha = 1,645"
   ]
  },
  {
   "cell_type": "code",
   "execution_count": 10,
   "metadata": {},
   "outputs": [
    {
     "name": "stdout",
     "output_type": "stream",
     "text": [
      "Ttest_1sampResult(statistic=array([3.17999364]), pvalue=array([0.00196659]))\n"
     ]
    }
   ],
   "source": [
    "print(ttest_1samp(ech.values, 0.01))"
   ]
  },
  {
   "cell_type": "markdown",
   "metadata": {},
   "source": [
    "Zobs > Zalpha donc H0 est rejetée. H1 est acceptée avec le risque d'erreur à 5%.\n",
    "les badge de l'entreprise ne repondent donc pas à la norme des 1% de defaillances."
   ]
  },
  {
   "cell_type": "markdown",
   "metadata": {},
   "source": [
    "## Erreur dans l'enoncé ?\n",
    "\n",
    "Les defaillances sont à 10% en moyenne.\n",
    "Dans ce cas :"
   ]
  },
  {
   "cell_type": "code",
   "execution_count": 11,
   "metadata": {},
   "outputs": [
    {
     "name": "stdout",
     "output_type": "stream",
     "text": [
      "Ttest_1sampResult(statistic=array([0.31799936]), pvalue=array([0.75115522]))\n"
     ]
    }
   ],
   "source": [
    "print(ttest_1samp(ech.values, 0.10))"
   ]
  },
  {
   "cell_type": "markdown",
   "metadata": {},
   "source": [
    "Ici, pvalue >> alpha donc on ne peut pas conclure l'hypothese H0 est non rejetée."
   ]
  },
  {
   "cell_type": "markdown",
   "metadata": {},
   "source": [
    "# Exercice 3"
   ]
  },
  {
   "cell_type": "markdown",
   "metadata": {},
   "source": [
    "Recuperation des echantillons"
   ]
  },
  {
   "cell_type": "code",
   "execution_count": 12,
   "metadata": {},
   "outputs": [
    {
     "name": "stdout",
     "output_type": "stream",
     "text": [
      "Reading sheet 0\n"
     ]
    }
   ],
   "source": [
    "ech = pd.read_excel(\"Exercice3.xlsx\",header=0, engine=\"openpyxl\", verbose=True)\n",
    "\n",
    "vect1 = []\n",
    "vect2 = []\n",
    "for v in ech.values :\n",
    "    if v[0] == 1:\n",
    "        vect1.append(v[1])\n",
    "    else:\n",
    "        vect2.append(v[1])"
   ]
  },
  {
   "cell_type": "code",
   "execution_count": 13,
   "metadata": {},
   "outputs": [
    {
     "name": "stdout",
     "output_type": "stream",
     "text": [
      "taille de l'echantillon 1 est 45\n",
      "la moyenne xbarre de l'echantillon 1 est :  64.18087999999999\n",
      "la variance s^2 de l'echantillon 1 est :  5.799055438933332\n",
      "taille de l'echantillon 2 est 55\n",
      "la moyenne xbarre de l'echantillon 2 est :  61.76546363636362\n",
      "la variance s^2 de l'echantillon 2 est :  7.277290229586775\n"
     ]
    },
    {
     "data": {
      "image/png": "[encoded data removed]",
      "text/plain": [
       "<Figure size 432x288 with 2 Axes>"
      ]
     },
     "metadata": {},
     "output_type": "display_data"
    }
   ],
   "source": [
    "print(\"taille de l'echantillon 1 est\", len(vect1))\n",
    "print(\"la moyenne xbarre de l'echantillon 1 est : \", np.mean(vect1))\n",
    "print(\"la variance s^2 de l'echantillon 1 est : \", np.var(vect1))\n",
    "\n",
    "print(\"taille de l'echantillon 2 est\", len(vect2))\n",
    "print(\"la moyenne xbarre de l'echantillon 2 est : \", np.mean(vect2))\n",
    "print(\"la variance s^2 de l'echantillon 2 est : \", np.var(vect2))\n",
    "\n",
    "plt.figure()\n",
    "plt.subplot(1,2,1)\n",
    "plt.boxplot(vect1)\n",
    "plt.xlabel(\"Résistance à la rupture\")\n",
    "plt.title(\"boxplot pour l'usine 1\")\n",
    "\n",
    "plt.subplot(1,2,2)\n",
    "plt.boxplot(vect2)\n",
    "plt.xlabel(\"Résistance à la rupture\")\n",
    "plt.title(\"boxplot pour l'usine 2\")\n",
    "plt.show()"
   ]
  },
  {
   "cell_type": "markdown",
   "metadata": {},
   "source": [
    "## test d'hypothese\n",
    "\n",
    "Ici, on va comparer les deux echantillons pour savoir\n",
    "si il y a une difference notable de resistance entre\n",
    "les deux ateliers.\n",
    "\n",
    "On vas donc poser 2 hypothèses :\n",
    "\n",
    "- (H0) soit mu1 = mu2\n",
    "- (H1) soit mu2 > mu1\n",
    "\n",
    "\n",
    "On fixe le risque alpha = 5%, on suppose H0 vraie.\n"
   ]
  },
  {
   "cell_type": "code",
   "execution_count": 14,
   "metadata": {},
   "outputs": [
    {
     "name": "stdout",
     "output_type": "stream",
     "text": [
      "Ttest_indResult(statistic=4.626189767826656, pvalue=1.140352684640741e-05)\n"
     ]
    }
   ],
   "source": [
    "print(ttest_ind(vect1, vect2))"
   ]
  },
  {
   "cell_type": "markdown",
   "metadata": {},
   "source": [
    "Zobs = 4,626 et Zalpha = 1,645\n",
    "\n",
    "donc Zobs > Zalpha donc hypothese H0 rejetée donc H1 validée. Avec une marge erreur a 5%, on peut dire que les fibres des deux ateliers ont des resistances differentes."
   ]
  }
 ],
 "metadata": {
  "interpreter": {
   "hash": "31f2aee4e71d21fbe5cf8b01ff0e069b9275f58929596ceb00d14d90e3e16cd6"
  },
  "kernelspec": {
   "display_name": "Python 3",
   "language": "python",
   "name": "python3"
  },
  "language_info": {
   "codemirror_mode": {
    "name": "ipython",
    "version": 3
   },
   "file_extension": ".py",
   "mimetype": "text/x-python",
   "name": "python",
   "nbconvert_exporter": "python",
   "pygments_lexer": "ipython3",
   "version": "3.6.9"
  }
 },
 "nbformat": 4,
 "nbformat_minor": 2
}
