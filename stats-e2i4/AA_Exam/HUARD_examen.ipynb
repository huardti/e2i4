{
 "cells": [
  {
   "cell_type": "markdown",
   "metadata": {},
   "source": [
    "# Examen statistiques E2I4\n",
    "\n",
    " - HUARD Titouan"
   ]
  },
  {
   "cell_type": "markdown",
   "metadata": {},
   "source": [
    "On importe les librairies utiles pour la suite."
   ]
  },
  {
   "cell_type": "code",
   "execution_count": 135,
   "metadata": {},
   "outputs": [],
   "source": [
    "import numpy as np\n",
    "import pandas as pd\n",
    "import matplotlib.pyplot as plt\n",
    "from scipy.stats import norm\n",
    "from math import sqrt\n",
    "\n",
    "from scipy.stats.stats import ttest_1samp , ttest_ind"
   ]
  },
  {
   "cell_type": "markdown",
   "metadata": {},
   "source": [
    "# Exercice 1"
   ]
  },
  {
   "cell_type": "markdown",
   "metadata": {},
   "source": [
    "On commence par importer les données du tableur"
   ]
  },
  {
   "cell_type": "code",
   "execution_count": 136,
   "metadata": {},
   "outputs": [],
   "source": [
    "ech = pd.read_excel(\"DureeVie_Piles.xlsx\",header=0, engine=\"openpyxl\")\n"
   ]
  },
  {
   "cell_type": "markdown",
   "metadata": {},
   "source": [
    "## 1/ Décrire les données"
   ]
  },
  {
   "cell_type": "markdown",
   "metadata": {},
   "source": [
    "grâce au code suivant je calcule la taille de l'echantillon, sa la valeur moyenne ainsi que sa variance."
   ]
  },
  {
   "cell_type": "code",
   "execution_count": 137,
   "metadata": {},
   "outputs": [
    {
     "name": "stdout",
     "output_type": "stream",
     "text": [
      "La taille de l'echantillon 100\n",
      "La durée de vie moyenne obtenue avec cette echantillon est :  167.38388000000003\n",
      "la variance de l'echantillon est :  104.43418166560001\n"
     ]
    }
   ],
   "source": [
    "print(\"La taille de l'echantillon\", len(ech.values))\n",
    "print(\"La durée de vie moyenne obtenue avec cette echantillon est : \", np.mean(ech.values))\n",
    "print(\"la variance de l'echantillon est : \", np.var(ech.values))"
   ]
  },
  {
   "cell_type": "markdown",
   "metadata": {},
   "source": [
    "L'echantillon a bien n = 100.\n",
    "Sa valeur moyenne est de 167,38 ce qui est proche de la valeur annoncée."
   ]
  },
  {
   "cell_type": "code",
   "execution_count": 138,
   "metadata": {},
   "outputs": [
    {
     "data": {
      "image/png": "[encoded data removed]",
      "text/plain": [
       "<Figure size 432x288 with 1 Axes>"
      ]
     },
     "metadata": {},
     "output_type": "display_data"
    }
   ],
   "source": [
    "x=np.linspace(100,250,1000)\n",
    "plt.figure()\n",
    "plt.hist(ech,bins=30,density=1)\n",
    "plt.plot(x,norm.pdf(x,np.mean(ech.values),np.std(ech.values)))\n",
    "plt.title(\"Histogramme des valeurs de l'echantillon\")\n",
    "plt.xlabel(\"Durée de vie des piles (heures)\")\n",
    "plt.ylabel(\"Effectif relatif\")\n",
    "plt.show()"
   ]
  },
  {
   "cell_type": "markdown",
   "metadata": {},
   "source": [
    "Dans la figure précedente, on observe que que la distribution de cette echantillon semble suivre\n",
    "une loi normale."
   ]
  },
  {
   "cell_type": "markdown",
   "metadata": {},
   "source": [
    "## 2/ Estimation ponctuelle de la durée de vie moyenne"
   ]
  },
  {
   "cell_type": "markdown",
   "metadata": {},
   "source": [
    "L'echantillon est prélevé au hasard et contient 100 valeurs. On peut donc utiliser cette\n",
    "échantillon comme estimation ponctuelle."
   ]
  },
  {
   "cell_type": "code",
   "execution_count": 139,
   "metadata": {},
   "outputs": [
    {
     "name": "stdout",
     "output_type": "stream",
     "text": [
      "xbarre =  167.38388000000003\n",
      "s² =  105.48907238949496\n"
     ]
    }
   ],
   "source": [
    "xbarre = np.mean(ech.values)\n",
    "s2 = np.var(ech.values, ddof = 1)\n",
    "\n",
    "print(\"xbarre = \", xbarre)\n",
    "print(\"s² = \", s2)"
   ]
  },
  {
   "cell_type": "markdown",
   "metadata": {},
   "source": [
    "On peut donc utiliser ces valeurs pour calculer l'intervalle de confiance à 98%"
   ]
  },
  {
   "cell_type": "code",
   "execution_count": 140,
   "metadata": {},
   "outputs": [
    {
     "name": "stdout",
     "output_type": "stream",
     "text": [
      "Marge d'erreur de l'intervalle de confiance : 4.778684854232578\n",
      "intervalle de confiance moyenne population (162.60519514576745, 172.1625648542326)\n"
     ]
    }
   ],
   "source": [
    "def Intervalle_confiance_moyenne(ech,seuil,xbarre, variance):\n",
    "    ##seuil en %\n",
    "        #taille n de l'echantillon\n",
    "    n=len(ech)\n",
    "        #calcul de zalpha2\n",
    "    val=seuil/100+(1-seuil/100)/2\n",
    "    zalpha2=norm.ppf(val)\n",
    "        #calcul des bornes de l'intervales\n",
    "    marge=2*zalpha2*sqrt(variance)/(sqrt(n))\n",
    "    print(\"Marge d'erreur de l'intervalle de confiance :\",marge)\n",
    "\n",
    "    return (xbarre-marge,xbarre+marge)\n",
    "\n",
    "print(\"intervalle de confiance moyenne population\",Intervalle_confiance_moyenne(ech.values, 98, xbarre, s2))"
   ]
  },
  {
   "cell_type": "markdown",
   "metadata": {},
   "source": [
    "Avec un risque de 2%, on peut affirmer que la durée de vie des piles sera\n",
    "dans l'intervalle de confiance calculé ci dessus."
   ]
  },
  {
   "cell_type": "markdown",
   "metadata": {},
   "source": [
    "## 3/ tester l'affirmation du fabriquant\n",
    "\n",
    "Pour tester l'affirmation du fabriquant, l'organisme\n",
    "de défence des consomateurs peur realiser un test\n",
    "d'hypothèse afin de savoir si la variation observer\n",
    "est significative ou non.\n",
    "\n",
    "### Realisation du test\n",
    "\n",
    "On vas donc poser 2 hypothèses :\n",
    "\n",
    "- (H0) soit mu=170\n",
    "- (H1) soit mu != 170 (hyphotese bilaterale)\n",
    "\n",
    "On va aussi fixer le risque alpha = P(H0rejetée/H0vraie) = 5%\n",
    "Soit H0 vraie, zthéorique=1,96 (en centrant et reduisant la loi suivant par Xbarre)\n",
    "\n",
    "H0 rejeté si Xbarre* < -1,96 ou > 1,96\n",
    "Ensuite on va comparer cette valeur théorique à la valeur de zobservé dans notre echantillon de mesures."
   ]
  },
  {
   "cell_type": "code",
   "execution_count": 141,
   "metadata": {},
   "outputs": [
    {
     "name": "stdout",
     "output_type": "stream",
     "text": [
      "Ttest_1sampResult(statistic=array([-2.5471465]), pvalue=array([0.01240023]))\n"
     ]
    }
   ],
   "source": [
    "from scipy.stats import ttest_ind\n",
    "\n",
    "print(ttest_1samp(ech.values, 170))"
   ]
  },
  {
   "cell_type": "markdown",
   "metadata": {},
   "source": [
    "Zobs = -2,54 ce qui est inferieur à -1,96. L'hypothèse H0 est donc rejetée.\n",
    "\n",
    "On peut affirmer avec un risque d'erreur à 5% que l'echantillon\n",
    "a bien une durée de vien moyenne inferieur à la durée de vie affirmée\n",
    "par le fabriquant."
   ]
  },
  {
   "cell_type": "markdown",
   "metadata": {},
   "source": [
    "# Exercice 2"
   ]
  },
  {
   "cell_type": "markdown",
   "metadata": {},
   "source": [
    "On commence par importer les valeurs du tableur"
   ]
  },
  {
   "cell_type": "code",
   "execution_count": 142,
   "metadata": {},
   "outputs": [],
   "source": [
    "ech = pd.read_excel(\"VaccinPlacebo.xlsx\",header=0, index_col=0, engine=\"openpyxl\")"
   ]
  },
  {
   "cell_type": "markdown",
   "metadata": {},
   "source": [
    "## 1/ Description de l'echantillon"
   ]
  },
  {
   "cell_type": "markdown",
   "metadata": {},
   "source": [
    "Les fonctions suivantes permettent de decrir l'echantillon.\n",
    "Tout d'abord, nous avons le nombre de participants puis dans\n",
    "un second temps, la repartition des participants dans les deux\n",
    "groupes en fonction de leur genre."
   ]
  },
  {
   "cell_type": "code",
   "execution_count": 143,
   "metadata": {},
   "outputs": [
    {
     "name": "stdout",
     "output_type": "stream",
     "text": [
      "Nombre de participants à l'essai clinique :  492\n"
     ]
    }
   ],
   "source": [
    "print(\"Nombre de participants à l'essai clinique : \", len(ech.values))"
   ]
  },
  {
   "cell_type": "code",
   "execution_count": 144,
   "metadata": {},
   "outputs": [
    {
     "data": {
      "image/png": "[encoded data removed]",
      "text/plain": [
       "<Figure size 432x288 with 1 Axes>"
      ]
     },
     "metadata": {},
     "output_type": "display_data"
    }
   ],
   "source": [
    "# histogramme repartition homme femme\n",
    "(Valeurs,FreqAbsolues)=np.unique(ech.loc[:,'Genre'], return_counts=True)\n",
    "FreqRelatives=FreqAbsolues/len(ech.values)\n",
    "\n",
    "plt.figure()\n",
    "plt.bar([Valeurs[0], Valeurs[1]], FreqRelatives)\n",
    "plt.xlabel('Genre')\n",
    "plt.ylabel('Effectifs relatif')\n",
    "plt.title(\"Part homme / femme de l'echantillon\")\n",
    "plt.show()"
   ]
  },
  {
   "cell_type": "code",
   "execution_count": 145,
   "metadata": {},
   "outputs": [
    {
     "data": {
      "image/png": "[encoded data removed]",
      "text/plain": [
       "<Figure size 432x288 with 1 Axes>"
      ]
     },
     "metadata": {},
     "output_type": "display_data"
    }
   ],
   "source": [
    "# histogramme repartition dans chacun des bras\n",
    "(Valeurs,FreqAbsolues)=np.unique(ech.loc[:,'Traitement'], return_counts=True)\n",
    "FreqRelatives=FreqAbsolues/len(ech.values)\n",
    "\n",
    "plt.figure()\n",
    "plt.bar([Valeurs[0], Valeurs[1]], FreqRelatives)\n",
    "plt.xlabel('Genre')\n",
    "plt.ylabel('Effectifs relatif')\n",
    "plt.title(\"repartition actif /placebo\")\n",
    "plt.show()"
   ]
  },
  {
   "cell_type": "code",
   "execution_count": 146,
   "metadata": {},
   "outputs": [
    {
     "data": {
      "image/png": "[encoded data removed]",
      "text/plain": [
       "<Figure size 432x288 with 2 Axes>"
      ]
     },
     "metadata": {},
     "output_type": "display_data"
    }
   ],
   "source": [
    "# histogramme repartition homme femme dans chaque groupe\n",
    "actif = []\n",
    "placebo = []\n",
    "\n",
    "for v in ech.values :\n",
    "    if v[0] == \"actif\":\n",
    "        actif.append(v[1])\n",
    "    else:\n",
    "        placebo.append(v[1])\n",
    "\n",
    "#actif\n",
    "(Valeurs,FreqAbsolues)=np.unique(actif, return_counts=True)\n",
    "FreqRelatives=FreqAbsolues/len(ech.values)\n",
    "\n",
    "plt.figure()\n",
    "\n",
    "plt.subplot(1,2,1)\n",
    "plt.bar([Valeurs[0], Valeurs[1]], FreqRelatives)\n",
    "plt.xlabel('Genre')\n",
    "plt.ylabel('Effectifs relatif')\n",
    "plt.title(\"Part homme / femme dans le groupe actif\")\n",
    "\n",
    "#placebo\n",
    "(Valeurs,FreqAbsolues)=np.unique(placebo, return_counts=True)\n",
    "FreqRelatives=FreqAbsolues/len(ech.values)\n",
    "\n",
    "plt.subplot(1,2,2)\n",
    "plt.bar([Valeurs[0], Valeurs[1]], FreqRelatives)\n",
    "plt.xlabel('Genre')\n",
    "plt.ylabel('Effectifs relatif')\n",
    "plt.title(\"Part homme / femme dans le groupe placebo\")\n",
    "\n",
    "plt.show()"
   ]
  },
  {
   "cell_type": "markdown",
   "metadata": {},
   "source": [
    "## 2/ proportion de participants qui ont déclaré la maladie"
   ]
  },
  {
   "cell_type": "markdown",
   "metadata": {},
   "source": [
    "Dans un premier temps l'effectif relatif de malade en fonction du groupe :"
   ]
  },
  {
   "cell_type": "code",
   "execution_count": 147,
   "metadata": {},
   "outputs": [
    {
     "data": {
      "image/png": "[encoded data removed]",
      "text/plain": [
       "<Figure size 432x288 with 2 Axes>"
      ]
     },
     "metadata": {},
     "output_type": "display_data"
    }
   ],
   "source": [
    "actif = []\n",
    "placebo = []\n",
    "\n",
    "for v in ech.values :\n",
    "    if v[0] == \"actif\":\n",
    "        actif.append(v[2])\n",
    "    else:\n",
    "        placebo.append(v[2])\n",
    "\n",
    "#actif\n",
    "(Valeurs,FreqAbsolues)=np.unique(actif, return_counts=True)\n",
    "FreqRelatives=FreqAbsolues/len(ech.values)\n",
    "\n",
    "plt.figure()\n",
    "\n",
    "plt.subplot(1,2,1)\n",
    "plt.bar([\"non malade\", \"malade\"], FreqRelatives)\n",
    "plt.ylabel('Effectifs relatif')\n",
    "plt.title(\"malades dans le groupe actif\")\n",
    "\n",
    "#placebo\n",
    "(Valeurs,FreqAbsolues)=np.unique(placebo, return_counts=True)\n",
    "FreqRelatives=FreqAbsolues/len(ech.values)\n",
    "\n",
    "plt.subplot(1,2,2)\n",
    "plt.bar([\"non malade\", \"malade\"], FreqRelatives)\n",
    "plt.ylabel('Effectifs relatif')\n",
    "plt.title(\"malades dans le groupe placebo\")\n",
    "\n",
    "plt.show()"
   ]
  },
  {
   "cell_type": "markdown",
   "metadata": {},
   "source": [
    "Nombre de malade en fonction du genre :"
   ]
  },
  {
   "cell_type": "code",
   "execution_count": 148,
   "metadata": {},
   "outputs": [
    {
     "data": {
      "image/png": "[encoded data removed]",
      "text/plain": [
       "<Figure size 432x288 with 2 Axes>"
      ]
     },
     "metadata": {},
     "output_type": "display_data"
    }
   ],
   "source": [
    "h = []\n",
    "f = []\n",
    "\n",
    "for v in ech.values :\n",
    "    if v[1] == \"H\":\n",
    "        h.append(v[2])\n",
    "    else:\n",
    "        f.append(v[2])\n",
    "#homme\n",
    "(Valeurs,FreqAbsolues)=np.unique(h, return_counts=True)\n",
    "FreqRelatives=FreqAbsolues/len(ech.values)\n",
    "\n",
    "plt.figure()\n",
    "\n",
    "plt.subplot(1,2,1)\n",
    "plt.bar([\"non malade\", \"malade\"], FreqRelatives)\n",
    "plt.ylabel('Effectifs relatif')\n",
    "plt.title(\"proportion de malade homme\")\n",
    "\n",
    "#femme\n",
    "(Valeurs,FreqAbsolues)=np.unique(f, return_counts=True)\n",
    "FreqRelatives=FreqAbsolues/len(ech.values)\n",
    "\n",
    "plt.subplot(1,2,2)\n",
    "plt.bar([\"non malade\", \"malade\"], FreqRelatives)\n",
    "plt.ylabel('Effectifs relatif')\n",
    "plt.title(\"proportion de malade femme\")\n",
    "\n",
    "plt.show()"
   ]
  },
  {
   "cell_type": "markdown",
   "metadata": {},
   "source": [
    "## 3/ teste d'efficacité de la substance\n",
    "\n"
   ]
  },
  {
   "cell_type": "code",
   "execution_count": null,
   "metadata": {},
   "outputs": [],
   "source": []
  },
  {
   "cell_type": "markdown",
   "metadata": {},
   "source": [
    "# Exercice 3"
   ]
  },
  {
   "cell_type": "markdown",
   "metadata": {},
   "source": [
    "On importe les données pour l'exercice"
   ]
  },
  {
   "cell_type": "code",
   "execution_count": 149,
   "metadata": {},
   "outputs": [],
   "source": [
    "ech = pd.read_excel(\"ProgType.xlsx\",header=0, engine=\"openpyxl\")"
   ]
  },
  {
   "cell_type": "markdown",
   "metadata": {},
   "source": [
    "## 1/ Histogrammes des mesurtes des programmes\n",
    "\n",
    "Dans un premiers temps on peut comparer les temps d'executions en regardant la figure suivante.\n",
    "Elle montre les histogrammes des temps d'execution des trois programmes."
   ]
  },
  {
   "cell_type": "code",
   "execution_count": 150,
   "metadata": {},
   "outputs": [
    {
     "data": {
      "image/png": "[encoded data removed]",
      "text/plain": [
       "<Figure size 432x288 with 3 Axes>"
      ]
     },
     "metadata": {},
     "output_type": "display_data"
    }
   ],
   "source": [
    "plt.figure()\n",
    "plt.subplot(1,3,1)\n",
    "plt.hist(ech.loc[:,'ProgType1'],bins=20,density=0, color='blue')\n",
    "plt.xlabel(\"temps d'execution\")\n",
    "plt.ylabel(\"effectif\")\n",
    "plt.title(\"programme 1\")\n",
    "plt.subplot(1,3,2)\n",
    "plt.hist(ech.loc[:,'ProgType2'],bins=20,density=0, color='red')\n",
    "plt.xlabel(\"temps d'execution\")\n",
    "plt.title(\"programme 2\")\n",
    "plt.subplot(1,3,3)\n",
    "plt.hist(ech.loc[:,'ProgType3'],bins=20,density=0, color='green')\n",
    "plt.xlabel(\"temps d'execution\")\n",
    "plt.title(\"programme 3\")\n",
    "plt.show()"
   ]
  },
  {
   "cell_type": "markdown",
   "metadata": {},
   "source": [
    "Les differentes moyennes ainsi que les variances des programmes\n",
    "sont les suivantes."
   ]
  },
  {
   "cell_type": "code",
   "execution_count": 151,
   "metadata": {},
   "outputs": [
    {
     "name": "stdout",
     "output_type": "stream",
     "text": [
      "programme 1 : \n",
      "La taille de l'echantillon 79\n",
      "Temps d'execution moyen :  3662.673011392406\n",
      "variance :  21511.769711233246\n",
      "programme 2 : \n",
      "La taille de l'echantillon 79\n",
      "Temps d'execution moyen :  3825.9056340379743\n",
      "variance :  18785.577703442923\n",
      "programme 3 : \n",
      "La taille de l'echantillon 79\n",
      "Temps d'execution moyen :  3706.574644518988\n",
      "variance :  14971.204256216577\n"
     ]
    }
   ],
   "source": [
    "P1 = ech.loc[:,'ProgType1']\n",
    "P2 = ech.loc[:,'ProgType2']\n",
    "P3 = ech.loc[:,'ProgType3']\n",
    "\n",
    "\n",
    "print(\"programme 1 : \")\n",
    "print(\"La taille de l'echantillon\", len(P1))\n",
    "print(\"Temps d'execution moyen : \", np.mean(P1))\n",
    "print(\"variance : \", np.var(P1))\n",
    "\n",
    "print(\"programme 2 : \")\n",
    "print(\"La taille de l'echantillon\", len(P2))\n",
    "print(\"Temps d'execution moyen : \", np.mean(P2))\n",
    "print(\"variance : \", np.var(P2))\n",
    "\n",
    "print(\"programme 3 : \")\n",
    "print(\"La taille de l'echantillon\", len(P3))\n",
    "print(\"Temps d'execution moyen : \", np.mean(P3))\n",
    "print(\"variance : \", np.var(P3))"
   ]
  },
  {
   "cell_type": "markdown",
   "metadata": {},
   "source": [
    "## 2/ test sur le temps d'execution\n",
    "\n",
    "Dans un premier temps, nous pouvont effectuer un test avec les intervalle de confiance afin de voir quel programme est le plus rapide."
   ]
  },
  {
   "cell_type": "code",
   "execution_count": 152,
   "metadata": {},
   "outputs": [
    {
     "name": "stdout",
     "output_type": "stream",
     "text": [
      "Marge d'erreur de l'intervalle de confiance : 64.68485531119914\n",
      "intervalle de confiance moyenne programme 1 : (3597.988156081207, 3727.357866703605)\n",
      "Marge d'erreur de l'intervalle de confiance : 60.447287705262845\n",
      "intervalle de confiance moyenne programme 2 : (3765.4583463327117, 3886.352921743237)\n",
      "Marge d'erreur de l'intervalle de confiance : 53.962605264286445\n",
      "intervalle de confiance moyenne programme 3 : (3652.6120392547014, 3760.5372497832745)\n"
     ]
    }
   ],
   "source": [
    "print(\"intervalle de confiance moyenne programme 1 :\",Intervalle_confiance_moyenne(P1, 95,\n",
    "                                                            np.mean(P1),\n",
    "                                                            np.var(P1)))\n",
    "print(\"intervalle de confiance moyenne programme 2 :\",Intervalle_confiance_moyenne(P2, 95,\n",
    "                                                            np.mean(P2),\n",
    "                                                            np.var(P2)))\n",
    "print(\"intervalle de confiance moyenne programme 3 :\",Intervalle_confiance_moyenne(P3, 95,\n",
    "                                                            np.mean(P3),\n",
    "                                                            np.var(P3)))\n"
   ]
  },
  {
   "cell_type": "markdown",
   "metadata": {},
   "source": [
    "Grace aux calcules ci dessus, on peut dire que en moyenne, le programme 1 est le plus rapide suivi du programme 3\n",
    "puis du programme 2."
   ]
  },
  {
   "cell_type": "markdown",
   "metadata": {},
   "source": [
    "## 3/ tests de comparaison des moyennes\n",
    "\n",
    "On a alpha = 5%\n",
    "\n",
    "### test entre les programme 1 et 2\n",
    "les hypotheses pour le programme 1 et 2 sont les suivantes\n",
    "- (H0) soit mu1=mu2\n",
    "- (H1) soit mu1 != mu2"
   ]
  },
  {
   "cell_type": "code",
   "execution_count": 153,
   "metadata": {},
   "outputs": [
    {
     "name": "stdout",
     "output_type": "stream",
     "text": [
      "H0 rejetée\n",
      "Ttest_indResult(statistic=-7.181514307531468, pvalue=2.687230126560446e-11)\n"
     ]
    }
   ],
   "source": [
    "alpha = 5\n",
    "z_obs = ttest_ind(P1, P2, equal_var=False)\n",
    "z_alpha = norm.ppf((95 + 1) /2)\n",
    "\n",
    "if(z_obs.pvalue < alpha): # hypothese null rejetée\n",
    "    print(\"H0 rejetée\")\n",
    "else :\n",
    "    print(\"H0 NON rejetée\")\n",
    "\n",
    "print(z_obs)"
   ]
  },
  {
   "cell_type": "markdown",
   "metadata": {},
   "source": [
    "On observe que H0 est rejetée et que zobs < -z_alpha donc on peut dire avec un\n",
    "risque d'erreur a 5% que le programme 1 est plus rapide que le programme 2."
   ]
  },
  {
   "cell_type": "markdown",
   "metadata": {},
   "source": [
    "### test avec les programmes 2 et 3\n",
    "\n",
    "les hypotheses sont donc\n",
    "- (H0) soit mu2=mu3\n",
    "- (H1) soit mu2 != mu3"
   ]
  },
  {
   "cell_type": "code",
   "execution_count": 154,
   "metadata": {},
   "outputs": [
    {
     "name": "stdout",
     "output_type": "stream",
     "text": [
      "H0 rejetée\n",
      "Ttest_indResult(statistic=5.736143718150158, pvalue=4.9765181741163474e-08)\n"
     ]
    }
   ],
   "source": [
    "alpha = 5\n",
    "z_obs = ttest_ind(P2, P3, equal_var=False)\n",
    "z_alpha = norm.ppf((95 + 1) /2)\n",
    "\n",
    "if(z_obs.pvalue < alpha): # hypothese null rejetée\n",
    "    print(\"H0 rejetée\")\n",
    "else :\n",
    "    print(\"H0 NON rejetée\")\n",
    "\n",
    "print(z_obs)"
   ]
  },
  {
   "cell_type": "markdown",
   "metadata": {},
   "source": [
    "H0 est rejetée et que zobs > z_alpha donc on peut dire avec un\n",
    "risque d'erreur à 5% que le programme 2 est plus lent que le programme 3."
   ]
  },
  {
   "cell_type": "markdown",
   "metadata": {},
   "source": [
    "### test avec les programmes 1 et 3\n",
    "\n",
    "les hypotheses sont donc\n",
    "- (H0) soit mu1=mu3\n",
    "- (H1) soit mu1 != mu3"
   ]
  },
  {
   "cell_type": "code",
   "execution_count": 155,
   "metadata": {},
   "outputs": [
    {
     "name": "stdout",
     "output_type": "stream",
     "text": [
      "H0 rejetée\n",
      "Ttest_indResult(statistic=-2.02993840808199, pvalue=0.04411689499482467)\n"
     ]
    }
   ],
   "source": [
    "alpha = 5\n",
    "z_obs = ttest_ind(P1, P3, equal_var=False)\n",
    "z_alpha = norm.ppf((95 + 1) /2)\n",
    "\n",
    "if(z_obs.pvalue < alpha): # hypothese null rejetée\n",
    "    print(\"H0 rejetée\")\n",
    "else :\n",
    "    print(\"H0 NON rejetée\")\n",
    "\n",
    "print(z_obs)"
   ]
  },
  {
   "cell_type": "markdown",
   "metadata": {},
   "source": [
    "H0 est rejetée et que zobs < -z_alpha donc on peut dire avec un\n",
    "risque d'erreur à 5% que le programme 1 est plus rapide que le programme 2."
   ]
  },
  {
   "cell_type": "markdown",
   "metadata": {},
   "source": [
    "On a donc le programme 1 qui est le plus rapide, vien ensuite le programme 3 puis le programme 2."
   ]
  },
  {
   "cell_type": "markdown",
   "metadata": {},
   "source": [
    "# Exercice 4\n",
    "\n",
    "On commence par importer les données du tableur"
   ]
  },
  {
   "cell_type": "code",
   "execution_count": 156,
   "metadata": {},
   "outputs": [],
   "source": [
    "ech = pd.read_excel(\"GlassAnalysis.xlsx\",header=0,index_col=0, engine=\"openpyxl\")"
   ]
  },
  {
   "cell_type": "markdown",
   "metadata": {},
   "source": [
    "## description du jeu de donnée"
   ]
  },
  {
   "cell_type": "code",
   "execution_count": 157,
   "metadata": {},
   "outputs": [
    {
     "name": "stdout",
     "output_type": "stream",
     "text": [
      "il y a  204  elements dans cette echantillon \n",
      "nombre de variables: 5\n"
     ]
    }
   ],
   "source": [
    "nombre_elem, nombre_var = ech.shape\n",
    "print(\"il y a \",nombre_elem, \" elements dans cette echantillon\" , \"\\nnombre de variables:\", nombre_var)"
   ]
  },
  {
   "cell_type": "markdown",
   "metadata": {},
   "source": [
    "### variable RI\n",
    "\n",
    "c'est une variable qualitative continue"
   ]
  },
  {
   "cell_type": "code",
   "execution_count": 158,
   "metadata": {},
   "outputs": [
    {
     "data": {
      "image/png": "[encoded data removed]",
      "text/plain": [
       "<Figure size 432x288 with 1 Axes>"
      ]
     },
     "metadata": {},
     "output_type": "display_data"
    }
   ],
   "source": [
    "plt.figure()\n",
    "plt.hist(ech.loc[:,'RI'],bins=30,density=1, color='blue')\n",
    "plt.xlabel(\"indexe de refraction\")\n",
    "plt.ylabel(\"effectif\")\n",
    "plt.show()"
   ]
  },
  {
   "cell_type": "markdown",
   "metadata": {},
   "source": [
    "### Variable Na, Al, Si\n",
    "\n",
    "Ces trois variable sont quantitative continue. Elles representent la proportion d'aluminium, sodium et solicon dans le verre"
   ]
  },
  {
   "cell_type": "code",
   "execution_count": 159,
   "metadata": {},
   "outputs": [
    {
     "data": {
      "image/png": "[encoded data removed]",
      "text/plain": [
       "<Figure size 432x288 with 1 Axes>"
      ]
     },
     "metadata": {},
     "output_type": "display_data"
    }
   ],
   "source": [
    "plt.figure()\n",
    "plt.hist(ech.loc[:,'Na'],bins=30,density=1, color='blue')\n",
    "plt.xlabel(\"pourcentage de Sodium\")\n",
    "plt.ylabel(\"effectif\")\n",
    "plt.title(\"Sodium\")\n",
    "plt.show()"
   ]
  },
  {
   "cell_type": "code",
   "execution_count": 160,
   "metadata": {},
   "outputs": [
    {
     "data": {
      "image/png": "[encoded data removed]",
      "text/plain": [
       "<Figure size 432x288 with 1 Axes>"
      ]
     },
     "metadata": {},
     "output_type": "display_data"
    }
   ],
   "source": [
    "plt.figure()\n",
    "plt.hist(ech.loc[:,'Al'],bins=30,density=1, color='blue')\n",
    "plt.xlabel(\"pourcentage d'aluminium\")\n",
    "plt.ylabel(\"effectif\")\n",
    "plt.title(\"Aluminium\")\n",
    "plt.show()"
   ]
  },
  {
   "cell_type": "code",
   "execution_count": 161,
   "metadata": {},
   "outputs": [
    {
     "data": {
      "image/png": "[encoded data removed]",
      "text/plain": [
       "<Figure size 432x288 with 1 Axes>"
      ]
     },
     "metadata": {},
     "output_type": "display_data"
    }
   ],
   "source": [
    "plt.figure()\n",
    "plt.hist(ech.loc[:,'Si'],bins=30,density=1, color='blue')\n",
    "plt.xlabel(\"pourcentage de Silicon\")\n",
    "plt.ylabel(\"effectif\")\n",
    "plt.title(\"Silicon\")\n",
    "plt.show()"
   ]
  },
  {
   "cell_type": "markdown",
   "metadata": {},
   "source": [
    "### Variable type\n",
    "\n",
    "cette variable est qualitative discrete et reparti les differents verre en different types."
   ]
  },
  {
   "cell_type": "code",
   "execution_count": 162,
   "metadata": {},
   "outputs": [
    {
     "data": {
      "image/png": "[encoded data removed]",
      "text/plain": [
       "<Figure size 432x288 with 1 Axes>"
      ]
     },
     "metadata": {},
     "output_type": "display_data"
    },
    {
     "data": {
      "image/png": "[encoded data removed]",
      "text/plain": [
       "<Figure size 432x288 with 1 Axes>"
      ]
     },
     "metadata": {},
     "output_type": "display_data"
    }
   ],
   "source": [
    "(Valeurs,FreqAbsolues)=np.unique(ech.loc[:,'Type'], return_counts=True)\n",
    "FreqRelatives=FreqAbsolues/len(ech.values)\n",
    "\n",
    "plt.figure()\n",
    "plt.bar(Valeurs, FreqRelatives, color='blue')\n",
    "plt.xlabel(\"type\")\n",
    "plt.ylabel(\"frequence relative\")\n",
    "plt.title(\"Type\")\n",
    "plt.show()\n",
    "\n",
    "plt.figure()\n",
    "plt.pie(FreqRelatives, labels=Valeurs)\n",
    "plt.xlabel(\"type\")\n",
    "plt.title(\"Type\")\n",
    "plt.show()\n"
   ]
  },
  {
   "cell_type": "markdown",
   "metadata": {},
   "source": [
    "## 2/\n",
    "\n",
    "creation de la nouvelle variable Type2"
   ]
  },
  {
   "cell_type": "code",
   "execution_count": 163,
   "metadata": {},
   "outputs": [],
   "source": [
    "Type2 = []\n",
    "for elem in ech.loc[:,'Type']:\n",
    "    if(elem == 1):\n",
    "        Type2.append(1)\n",
    "    elif(elem == 2):\n",
    "        Type2.append(2)\n",
    "    else:\n",
    "        Type2.append(3)\n",
    "ech['Type2'] = Type2"
   ]
  },
  {
   "cell_type": "markdown",
   "metadata": {},
   "source": [
    "## 3/ analyse des variables"
   ]
  }
 ],
 "metadata": {
  "interpreter": {
   "hash": "31f2aee4e71d21fbe5cf8b01ff0e069b9275f58929596ceb00d14d90e3e16cd6"
  },
  "kernelspec": {
   "display_name": "Python 3",
   "language": "python",
   "name": "python3"
  },
  "language_info": {
   "codemirror_mode": {
    "name": "ipython",
    "version": 3
   },
   "file_extension": ".py",
   "mimetype": "text/x-python",
   "name": "python",
   "nbconvert_exporter": "python",
   "pygments_lexer": "ipython3",
   "version": "3.6.9"
  }
 },
 "nbformat": 4,
 "nbformat_minor": 2
}
